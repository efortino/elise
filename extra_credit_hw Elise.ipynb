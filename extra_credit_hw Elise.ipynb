{
 "cells": [
  {
   "cell_type": "code",
   "execution_count": 1,
   "id": "6a14beae-dcce-4d58-92d9-01c3f1b0963d",
   "metadata": {},
   "outputs": [],
   "source": [
    "# TODO: delete this comment and replace it with the header comment\n",
    "# that includes your name, the section of 1200 that you are registered for,\n",
    "# the homework name, and a brief description of what it does "
   ]
  },
  {
   "cell_type": "markdown",
   "id": "957ef135-6578-4ef6-bb84-0406947f8c1c",
   "metadata": {},
   "source": [
    "Part 1: Processing the data\n",
    "--------"
   ]
  },
  {
   "cell_type": "markdown",
   "id": "28533494-7e3a-476f-8350-f694b30dd9e0",
   "metadata": {},
   "source": [
    "1. First, create a class named H that maps the header column names to corresponding integers."
   ]
  },
  {
   "cell_type": "code",
   "execution_count": 69,
   "id": "c50064cf-e6bf-467e-9f28-00812c4b020f",
   "metadata": {},
   "outputs": [],
   "source": [
    "# Define any modules you'll be using\n",
    "\n",
    "# Define the Headers class here\n",
    "\n",
    "import statistics\n",
    "import random\n",
    "import numpy as np\n",
    "from numpy import mean\n",
    "import math\n",
    "from numpy import median\n",
    "\n",
    "\n",
    "class YD:\n",
    "    views = 0\n",
    "    likes = 1\n",
    "    dislikes = 2\n",
    "    comment_count = 3\n",
    "\n"
   ]
  },
  {
   "cell_type": "markdown",
   "id": "ca4a5d68-bbe0-49b9-a0c4-7f6c876aa382",
   "metadata": {},
   "source": [
    "2. Read the data from the \"youtube_us_stats.csv\" file and save it into a nested list."
   ]
  },
  {
   "cell_type": "code",
   "execution_count": 38,
   "id": "3f18004e-7ac7-4643-98b6-7f3ba41cce6a",
   "metadata": {},
   "outputs": [],
   "source": [
    "# define function to read in the data\n",
    "def read_data(data):\n",
    "    data = open(data, \"r\")\n",
    "    headers = data.readline().strip().split(\",\")\n",
    "    rows = []\n",
    "    i = 0\n",
    "    line = data.readline() #reads the data\n",
    "    while line:\n",
    "        rows.append(line.strip().split(\",\")) #Appended the lists (of rows) to a list of lists\n",
    "        line = data.readline()\n",
    "    data.close()\n",
    "    return rows\n",
    "def type_of_data(ls):\n",
    "    idx_1 = 0\n",
    "    while idx_1 < len(ls):\n",
    "        idx_2 = 0\n",
    "        while idx_2 < len(ls[idx_1])-1: #if the cell is empty, added a 0\n",
    "            if ls[idx_1][idx_2]=='':\n",
    "                ls[idx_1][idx_2]=0\n",
    "            else:\n",
    "                ls[idx_1][idx_2]=int(ls[idx_1][idx_2])  #Made all the numbers integers\n",
    "                        #skipped string columns\n",
    "            idx_2+=1\n",
    "        idx_1 += 1         \n",
    "    return ls   \n",
    "#Read the data and put them into lists using an open function to open it and using a while loop to make lists of lists seperating the elements by commas \n",
    "    #pass\n",
    "#type_of_data(read_data(\"youtube_us_stats.csv\"))"
   ]
  },
  {
   "cell_type": "markdown",
   "id": "2ef33cd0-6761-49d3-96c5-f64e4f0781e8",
   "metadata": {},
   "source": [
    "## Part 2:  Writing the Supporting Functions\n",
    "--------"
   ]
  },
  {
   "cell_type": "markdown",
   "id": "dde83ec8-4600-4d14-8b4c-2117ec1ac39d",
   "metadata": {},
   "source": [
    "1. Complete get column_values to extract an entire column of values from the data and return it as a list."
   ]
  },
  {
   "cell_type": "code",
   "execution_count": 4,
   "id": "87cb123a-44ab-4424-9345-a7034142fbc8",
   "metadata": {},
   "outputs": [],
   "source": [
    "def get_column_values(data, columnindex):\n",
    "    index_1=0\n",
    "    ls=[]\n",
    "    while index_1<len(data):\n",
    "        ls.append(data[index_1][columnindex]) #If the column value equals a target value add numbers in the column to a list\n",
    "        index_1+=1\n",
    "    return ls \n",
    "#Used a while to loop to grab all volues in a column that corresponded with a users input\n",
    "#and appended them to a list\n",
    "    #pass\n",
    "#print(type(get_column_values(read_data(\"youtube_us_stats.csv\"), YD.likes)[0]))\n",
    "#get_column_values(read_data(\"youtube_us_stats.csv\"), YD.likes)"
   ]
  },
  {
   "cell_type": "markdown",
   "id": "bdccda51-cd69-4485-a61d-0a99965ba383",
   "metadata": {},
   "source": [
    "2. Complete get_matching_rows which returns a new list containing all rows from your data where the column value matches the target value."
   ]
  },
  {
   "cell_type": "code",
   "execution_count": 5,
   "id": "2531c7bb-6e67-4cb5-adbf-c87cc915d534",
   "metadata": {},
   "outputs": [],
   "source": [
    "def get_matching_rows(data, columnindex, targetvalue):\n",
    "    index_1=0\n",
    "    ls=[]\n",
    "    while index_1<len(data):\n",
    "        if data[index_1][columnindex] == targetvalue: #If the column value equals a target value add the whole row to a list\n",
    "            ls.append(data[index_1])\n",
    "        index_1+=1\n",
    "    return ls\n",
    "    #pass\n",
    "#get_matching_rows(read_data(\"youtube_us_stats.csv\"), YD.likes, '1707')"
   ]
  },
  {
   "cell_type": "markdown",
   "id": "546efbc7-2fad-4a6c-88ec-30f045391bef",
   "metadata": {},
   "source": [
    "3. Complete get_unique_values function to extract the unique values from a list. "
   ]
  },
  {
   "cell_type": "code",
   "execution_count": 6,
   "id": "2d5b8971-e9c7-4edf-9760-6c017121c5c0",
   "metadata": {},
   "outputs": [],
   "source": [
    "def get_unique_values(bigls):\n",
    "    b=sorted(bigls)\n",
    "    index_1=0\n",
    "    ls=[]\n",
    "    while index_1<len(b):\n",
    "        if b[index_1]not in ls:   #If the values isn't already in the list, add it\n",
    "            ls.append(b[index_1])\n",
    "        index_1+=1\n",
    "    return ls\n",
    "    print (ls)\n",
    "# Return unique from the list by appending values to a list if they had not already been appneded\n",
    "    #pass"
   ]
  },
  {
   "cell_type": "markdown",
   "id": "9c69c244-6fff-4ad0-aaec-c4b74c3a35cb",
   "metadata": {},
   "source": [
    "4. Complete get_n_largest_values to find the n number of largest values for a column and return them in a list."
   ]
  },
  {
   "cell_type": "code",
   "execution_count": 10,
   "id": "1810786b-719a-4f51-9930-7ab408c1fe2f",
   "metadata": {},
   "outputs": [
    {
     "data": {
      "text/plain": [
       "['99990', '9999', '99980']"
      ]
     },
     "execution_count": 10,
     "metadata": {},
     "output_type": "execute_result"
    }
   ],
   "source": [
    "def get_n_largest_values(data, column, n):\n",
    "    n=int(n)\n",
    "    x=get_column_values(data, column)\n",
    "    revlist=sorted(x, reverse=True) \n",
    "    nlist=[]\n",
    "    index1=0\n",
    "    while index1<n:\n",
    "        nlist.append(revlist[index1])\n",
    "        index1+=1\n",
    "    #pass\n",
    "    return nlist\n",
    "get_n_largest_values(read_data(\"youtube_us_stats.csv\"),YD.likes,3)"
   ]
  },
  {
   "cell_type": "markdown",
   "id": "c309d201-22a1-412b-8aa1-c2563858c442",
   "metadata": {},
   "source": [
    "## Part 3: Video Statistics\n",
    "--------"
   ]
  },
  {
   "cell_type": "markdown",
   "id": "46d80688-4db8-43c7-b84f-506b6b945d59",
   "metadata": {},
   "source": [
    "Complete the main function below by replacing the TODO comments with your solution using the functions defined above."
   ]
  },
  {
   "cell_type": "code",
   "execution_count": 74,
   "id": "5e7c4055-b2f1-41bb-b8b1-ce83ce3c8c4d",
   "metadata": {},
   "outputs": [
    {
     "name": "stdout",
     "output_type": "stream",
     "text": [
      "Average number of views for top 20 videos is 177953102.1\n",
      "Number of videos with over 100,000 likes is 6586\n",
      "Median number of views for 15 least watched videos 745.0\n"
     ]
    }
   ],
   "source": [
    "def main():\n",
    "    data=read_data(\"youtube_us_stats.csv\")\n",
    "    data=type_of_data(data)\n",
    "    \n",
    "    # TODO: print the average number of views for the top 20 most-watched videos\n",
    "    views=get_n_largest_values(data, YD.views, 20)\n",
    "    meanviews=mean(views) \n",
    "    print('Average number of views for top 20 videos is ' + str(meanviews))\n",
    "    \n",
    "    # TODO: print the number of videos with over 100,000 likes\n",
    "    \n",
    "    index1=0\n",
    "    x=[]\n",
    "    while index1<len(data):\n",
    "        if data[index1][YD.likes]>=int(100000):\n",
    "            x.append(data[index1][YD.likes])\n",
    "        index1+=1\n",
    "    print('Number of videos with over 100,000 likes is ' + str(len(x)))\n",
    "                          \n",
    "    \n",
    "    # TODO: what is the median number of views for the top 15 least-watched videos\n",
    "    \n",
    "    x=get_column_values(data, YD.views)\n",
    "    revlist=sorted(x) \n",
    "    nlist=[]\n",
    "    index1=0\n",
    "    while index1<15:\n",
    "        nlist.append(revlist[index1])\n",
    "        index1+=1\n",
    "    print('Median number of views for 15 least watched videos ' + str(median(nlist)))\n",
    "    \n",
    "main()"
   ]
  },
  {
   "cell_type": "code",
   "execution_count": null,
   "id": "c1acadff-04af-4561-8a5a-89d07fa62bb3",
   "metadata": {},
   "outputs": [],
   "source": [
    "\n"
   ]
  },
  {
   "cell_type": "code",
   "execution_count": null,
   "id": "e2b09b9d-6a40-405c-b78d-52e21004878e",
   "metadata": {},
   "outputs": [],
   "source": [
    "\n"
   ]
  },
  {
   "cell_type": "code",
   "execution_count": null,
   "id": "7be36c9d-4d93-4200-821a-9674ffd1cba0",
   "metadata": {},
   "outputs": [],
   "source": []
  }
 ],
 "metadata": {
  "kernelspec": {
   "display_name": "Python 3 (ipykernel)",
   "language": "python",
   "name": "python3"
  },
  "language_info": {
   "codemirror_mode": {
    "name": "ipython",
    "version": 3
   },
   "file_extension": ".py",
   "mimetype": "text/x-python",
   "name": "python",
   "nbconvert_exporter": "python",
   "pygments_lexer": "ipython3",
   "version": "3.9.7"
  }
 },
 "nbformat": 4,
 "nbformat_minor": 5
}
